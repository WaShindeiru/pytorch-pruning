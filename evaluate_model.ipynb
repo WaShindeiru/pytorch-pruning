{
 "cells": [
  {
   "cell_type": "code",
   "id": "initial_id",
   "metadata": {
    "collapsed": true,
    "ExecuteTime": {
     "end_time": "2025-05-09T15:17:21.102953Z",
     "start_time": "2025-05-09T15:17:21.100407Z"
    }
   },
   "source": [
    "import torch\n",
    "from sklearn.metrics import precision_recall_fscore_support\n",
    "import numpy as np\n",
    "from time import time\n",
    "\n",
    "import dataset\n",
    "from finetune import ModifiedVGG16Model"
   ],
   "outputs": [],
   "execution_count": 42
  },
  {
   "metadata": {
    "ExecuteTime": {
     "end_time": "2025-05-09T15:17:23.757999Z",
     "start_time": "2025-05-09T15:17:23.750147Z"
    }
   },
   "cell_type": "code",
   "source": "device = torch.device(\"cuda\" if torch.cuda.is_available() else \"cpu\")",
   "id": "a12b9e92940828e2",
   "outputs": [],
   "execution_count": 44
  },
  {
   "metadata": {
    "ExecuteTime": {
     "end_time": "2025-05-09T15:16:47.825527Z",
     "start_time": "2025-05-09T15:16:47.811290Z"
    }
   },
   "cell_type": "code",
   "source": [
    "def evaluate_model(model_, test_loader_, device_):\n",
    "    model_.eval()  # Set model to evaluation mode\n",
    "    all_preds = []\n",
    "    all_labels = []\n",
    "    batch_times = []\n",
    "    total_inference_time = 0.\n",
    "\n",
    "    with torch.no_grad():  # Disable gradient computation\n",
    "        for batch, labels in test_loader_:\n",
    "            batch, labels = batch.to(device_), labels.to(device_)\n",
    "\n",
    "            batch_start = time()\n",
    "            outputs = model_(batch)\n",
    "            batch_time = time() - batch_start\n",
    "            batch_times.append(batch_time)\n",
    "            total_inference_time += batch_time\n",
    "\n",
    "            preds = torch.argmax(outputs, dim=1)\n",
    "\n",
    "            all_preds.extend(preds.cpu().numpy())\n",
    "            all_labels.extend(labels.cpu().numpy())\n",
    "\n",
    "    # Convert to numpy arrays\n",
    "    all_preds = np.array(all_preds)\n",
    "    all_labels = np.array(all_labels)\n",
    "\n",
    "    # Calculate metrics\n",
    "    accuracy = (all_preds == all_labels).mean()\n",
    "    precision, recall, f1, _ = precision_recall_fscore_support(\n",
    "        all_labels, all_preds, average='binary', zero_division=0\n",
    "    )\n",
    "\n",
    "    avg_batch_time = np.mean(batch_times) * 1000  # ms\n",
    "\n",
    "    print(f\"Accuracy: {accuracy:.4f}\")\n",
    "    print(f\"Precision: {precision:.4f}\")\n",
    "    print(f\"Recall: {recall:.4f}\")\n",
    "    print(f\"F1-Score: {f1:.4f}\")\n",
    "    print(f\"Average batch time: {avg_batch_time:.4f} ms\")"
   ],
   "id": "d3265b8f7dcc1ff8",
   "outputs": [],
   "execution_count": 40
  },
  {
   "metadata": {
    "ExecuteTime": {
     "end_time": "2025-05-09T15:17:50.299749Z",
     "start_time": "2025-05-09T15:17:47.490946Z"
    }
   },
   "cell_type": "code",
   "source": [
    "test_path = \"data/kagglecatsanddogs_5340/Test\"\n",
    "test_loader = dataset.test_loader(test_path)\n",
    "model = torch.load(\"model\", map_location=device, weights_only=False)\n",
    "evaluate_model(model, test_loader, device)"
   ],
   "id": "7fe5ed20ccbeab6b",
   "outputs": [
    {
     "name": "stdout",
     "output_type": "stream",
     "text": [
      "Accuracy: 0.9875\n",
      "Precision: 0.9924\n",
      "Recall: 0.9825\n",
      "F1-Score: 0.9874\n",
      "Average batch time: 1.1681 ms\n"
     ]
    }
   ],
   "execution_count": 45
  },
  {
   "metadata": {
    "ExecuteTime": {
     "end_time": "2025-05-09T15:17:54.666180Z",
     "start_time": "2025-05-09T15:17:51.955398Z"
    }
   },
   "cell_type": "code",
   "source": [
    "test_path = \"data/kagglecatsanddogs_5340/Test\"\n",
    "test_loader = dataset.test_loader(test_path)\n",
    "model = torch.load(\"model_old\", map_location=device, weights_only=False)\n",
    "evaluate_model(model, test_loader, device)"
   ],
   "id": "e78bdb6586d075f6",
   "outputs": [
    {
     "name": "stdout",
     "output_type": "stream",
     "text": [
      "Accuracy: 0.9900\n",
      "Precision: 0.9900\n",
      "Recall: 0.9900\n",
      "F1-Score: 0.9900\n",
      "Average batch time: 1.1145 ms\n"
     ]
    }
   ],
   "execution_count": 46
  },
  {
   "metadata": {
    "ExecuteTime": {
     "end_time": "2025-05-09T15:22:01.884370Z",
     "start_time": "2025-05-09T15:22:00.383954Z"
    }
   },
   "cell_type": "code",
   "source": [
    "test_path = \"data/kagglecatsanddogs_5340/Test\"\n",
    "test_loader = dataset.test_loader(test_path)\n",
    "model = ModifiedVGG16Model()\n",
    "model.load_state_dict(torch.load(\"model_prunned\", weights_only=True))\n",
    "evaluate_model(model, test_loader, device)"
   ],
   "id": "6284ae2b6e7d4b0a",
   "outputs": [
    {
     "ename": "RuntimeError",
     "evalue": "Error(s) in loading state_dict for ModifiedVGG16Model:\n\tsize mismatch for features.0.weight: copying a param with shape torch.Size([43, 3, 3, 3]) from checkpoint, the shape in current model is torch.Size([64, 3, 3, 3]).\n\tsize mismatch for features.0.bias: copying a param with shape torch.Size([43]) from checkpoint, the shape in current model is torch.Size([64]).\n\tsize mismatch for features.2.weight: copying a param with shape torch.Size([42, 43, 3, 3]) from checkpoint, the shape in current model is torch.Size([64, 64, 3, 3]).\n\tsize mismatch for features.2.bias: copying a param with shape torch.Size([42]) from checkpoint, the shape in current model is torch.Size([64]).\n\tsize mismatch for features.5.weight: copying a param with shape torch.Size([92, 42, 3, 3]) from checkpoint, the shape in current model is torch.Size([128, 64, 3, 3]).\n\tsize mismatch for features.5.bias: copying a param with shape torch.Size([92]) from checkpoint, the shape in current model is torch.Size([128]).\n\tsize mismatch for features.7.weight: copying a param with shape torch.Size([85, 92, 3, 3]) from checkpoint, the shape in current model is torch.Size([128, 128, 3, 3]).\n\tsize mismatch for features.7.bias: copying a param with shape torch.Size([85]) from checkpoint, the shape in current model is torch.Size([128]).\n\tsize mismatch for features.10.weight: copying a param with shape torch.Size([146, 85, 3, 3]) from checkpoint, the shape in current model is torch.Size([256, 128, 3, 3]).\n\tsize mismatch for features.10.bias: copying a param with shape torch.Size([146]) from checkpoint, the shape in current model is torch.Size([256]).\n\tsize mismatch for features.12.weight: copying a param with shape torch.Size([138, 146, 3, 3]) from checkpoint, the shape in current model is torch.Size([256, 256, 3, 3]).\n\tsize mismatch for features.12.bias: copying a param with shape torch.Size([138]) from checkpoint, the shape in current model is torch.Size([256]).\n\tsize mismatch for features.14.weight: copying a param with shape torch.Size([132, 138, 3, 3]) from checkpoint, the shape in current model is torch.Size([256, 256, 3, 3]).\n\tsize mismatch for features.14.bias: copying a param with shape torch.Size([132]) from checkpoint, the shape in current model is torch.Size([256]).\n\tsize mismatch for features.17.weight: copying a param with shape torch.Size([212, 132, 3, 3]) from checkpoint, the shape in current model is torch.Size([512, 256, 3, 3]).\n\tsize mismatch for features.17.bias: copying a param with shape torch.Size([212]) from checkpoint, the shape in current model is torch.Size([512]).\n\tsize mismatch for features.19.weight: copying a param with shape torch.Size([177, 212, 3, 3]) from checkpoint, the shape in current model is torch.Size([512, 512, 3, 3]).\n\tsize mismatch for features.19.bias: copying a param with shape torch.Size([177]) from checkpoint, the shape in current model is torch.Size([512]).\n\tsize mismatch for features.21.weight: copying a param with shape torch.Size([183, 177, 3, 3]) from checkpoint, the shape in current model is torch.Size([512, 512, 3, 3]).\n\tsize mismatch for features.21.bias: copying a param with shape torch.Size([183]) from checkpoint, the shape in current model is torch.Size([512]).\n\tsize mismatch for features.24.weight: copying a param with shape torch.Size([150, 183, 3, 3]) from checkpoint, the shape in current model is torch.Size([512, 512, 3, 3]).\n\tsize mismatch for features.24.bias: copying a param with shape torch.Size([150]) from checkpoint, the shape in current model is torch.Size([512]).\n\tsize mismatch for features.26.weight: copying a param with shape torch.Size([155, 150, 3, 3]) from checkpoint, the shape in current model is torch.Size([512, 512, 3, 3]).\n\tsize mismatch for features.26.bias: copying a param with shape torch.Size([155]) from checkpoint, the shape in current model is torch.Size([512]).\n\tsize mismatch for features.28.weight: copying a param with shape torch.Size([109, 155, 3, 3]) from checkpoint, the shape in current model is torch.Size([512, 512, 3, 3]).\n\tsize mismatch for features.28.bias: copying a param with shape torch.Size([109]) from checkpoint, the shape in current model is torch.Size([512]).\n\tsize mismatch for classifier.1.weight: copying a param with shape torch.Size([4096, 5341]) from checkpoint, the shape in current model is torch.Size([4096, 25088]).",
     "output_type": "error",
     "traceback": [
      "\u001B[31m---------------------------------------------------------------------------\u001B[39m",
      "\u001B[31mRuntimeError\u001B[39m                              Traceback (most recent call last)",
      "\u001B[36mCell\u001B[39m\u001B[36m \u001B[39m\u001B[32mIn[49]\u001B[39m\u001B[32m, line 4\u001B[39m\n\u001B[32m      2\u001B[39m test_loader = dataset.test_loader(test_path)\n\u001B[32m      3\u001B[39m model = ModifiedVGG16Model()\n\u001B[32m----> \u001B[39m\u001B[32m4\u001B[39m \u001B[43mmodel\u001B[49m\u001B[43m.\u001B[49m\u001B[43mload_state_dict\u001B[49m\u001B[43m(\u001B[49m\u001B[43mtorch\u001B[49m\u001B[43m.\u001B[49m\u001B[43mload\u001B[49m\u001B[43m(\u001B[49m\u001B[33;43m\"\u001B[39;49m\u001B[33;43mmodel_prunned\u001B[39;49m\u001B[33;43m\"\u001B[39;49m\u001B[43m,\u001B[49m\u001B[43m \u001B[49m\u001B[43mweights_only\u001B[49m\u001B[43m=\u001B[49m\u001B[38;5;28;43;01mTrue\u001B[39;49;00m\u001B[43m)\u001B[49m\u001B[43m)\u001B[49m\n\u001B[32m      5\u001B[39m evaluate_model(model, test_loader, device)\n",
      "\u001B[36mFile \u001B[39m\u001B[32m~/.venv/cv/lib/python3.12/site-packages/torch/nn/modules/module.py:2593\u001B[39m, in \u001B[36mModule.load_state_dict\u001B[39m\u001B[34m(self, state_dict, strict, assign)\u001B[39m\n\u001B[32m   2585\u001B[39m         error_msgs.insert(\n\u001B[32m   2586\u001B[39m             \u001B[32m0\u001B[39m,\n\u001B[32m   2587\u001B[39m             \u001B[33m\"\u001B[39m\u001B[33mMissing key(s) in state_dict: \u001B[39m\u001B[38;5;132;01m{}\u001B[39;00m\u001B[33m. \u001B[39m\u001B[33m\"\u001B[39m.format(\n\u001B[32m   2588\u001B[39m                 \u001B[33m\"\u001B[39m\u001B[33m, \u001B[39m\u001B[33m\"\u001B[39m.join(\u001B[33mf\u001B[39m\u001B[33m'\u001B[39m\u001B[33m\"\u001B[39m\u001B[38;5;132;01m{\u001B[39;00mk\u001B[38;5;132;01m}\u001B[39;00m\u001B[33m\"\u001B[39m\u001B[33m'\u001B[39m \u001B[38;5;28;01mfor\u001B[39;00m k \u001B[38;5;129;01min\u001B[39;00m missing_keys)\n\u001B[32m   2589\u001B[39m             ),\n\u001B[32m   2590\u001B[39m         )\n\u001B[32m   2592\u001B[39m \u001B[38;5;28;01mif\u001B[39;00m \u001B[38;5;28mlen\u001B[39m(error_msgs) > \u001B[32m0\u001B[39m:\n\u001B[32m-> \u001B[39m\u001B[32m2593\u001B[39m     \u001B[38;5;28;01mraise\u001B[39;00m \u001B[38;5;167;01mRuntimeError\u001B[39;00m(\n\u001B[32m   2594\u001B[39m         \u001B[33m\"\u001B[39m\u001B[33mError(s) in loading state_dict for \u001B[39m\u001B[38;5;132;01m{}\u001B[39;00m\u001B[33m:\u001B[39m\u001B[38;5;130;01m\\n\u001B[39;00m\u001B[38;5;130;01m\\t\u001B[39;00m\u001B[38;5;132;01m{}\u001B[39;00m\u001B[33m\"\u001B[39m.format(\n\u001B[32m   2595\u001B[39m             \u001B[38;5;28mself\u001B[39m.\u001B[34m__class__\u001B[39m.\u001B[34m__name__\u001B[39m, \u001B[33m\"\u001B[39m\u001B[38;5;130;01m\\n\u001B[39;00m\u001B[38;5;130;01m\\t\u001B[39;00m\u001B[33m\"\u001B[39m.join(error_msgs)\n\u001B[32m   2596\u001B[39m         )\n\u001B[32m   2597\u001B[39m     )\n\u001B[32m   2598\u001B[39m \u001B[38;5;28;01mreturn\u001B[39;00m _IncompatibleKeys(missing_keys, unexpected_keys)\n",
      "\u001B[31mRuntimeError\u001B[39m: Error(s) in loading state_dict for ModifiedVGG16Model:\n\tsize mismatch for features.0.weight: copying a param with shape torch.Size([43, 3, 3, 3]) from checkpoint, the shape in current model is torch.Size([64, 3, 3, 3]).\n\tsize mismatch for features.0.bias: copying a param with shape torch.Size([43]) from checkpoint, the shape in current model is torch.Size([64]).\n\tsize mismatch for features.2.weight: copying a param with shape torch.Size([42, 43, 3, 3]) from checkpoint, the shape in current model is torch.Size([64, 64, 3, 3]).\n\tsize mismatch for features.2.bias: copying a param with shape torch.Size([42]) from checkpoint, the shape in current model is torch.Size([64]).\n\tsize mismatch for features.5.weight: copying a param with shape torch.Size([92, 42, 3, 3]) from checkpoint, the shape in current model is torch.Size([128, 64, 3, 3]).\n\tsize mismatch for features.5.bias: copying a param with shape torch.Size([92]) from checkpoint, the shape in current model is torch.Size([128]).\n\tsize mismatch for features.7.weight: copying a param with shape torch.Size([85, 92, 3, 3]) from checkpoint, the shape in current model is torch.Size([128, 128, 3, 3]).\n\tsize mismatch for features.7.bias: copying a param with shape torch.Size([85]) from checkpoint, the shape in current model is torch.Size([128]).\n\tsize mismatch for features.10.weight: copying a param with shape torch.Size([146, 85, 3, 3]) from checkpoint, the shape in current model is torch.Size([256, 128, 3, 3]).\n\tsize mismatch for features.10.bias: copying a param with shape torch.Size([146]) from checkpoint, the shape in current model is torch.Size([256]).\n\tsize mismatch for features.12.weight: copying a param with shape torch.Size([138, 146, 3, 3]) from checkpoint, the shape in current model is torch.Size([256, 256, 3, 3]).\n\tsize mismatch for features.12.bias: copying a param with shape torch.Size([138]) from checkpoint, the shape in current model is torch.Size([256]).\n\tsize mismatch for features.14.weight: copying a param with shape torch.Size([132, 138, 3, 3]) from checkpoint, the shape in current model is torch.Size([256, 256, 3, 3]).\n\tsize mismatch for features.14.bias: copying a param with shape torch.Size([132]) from checkpoint, the shape in current model is torch.Size([256]).\n\tsize mismatch for features.17.weight: copying a param with shape torch.Size([212, 132, 3, 3]) from checkpoint, the shape in current model is torch.Size([512, 256, 3, 3]).\n\tsize mismatch for features.17.bias: copying a param with shape torch.Size([212]) from checkpoint, the shape in current model is torch.Size([512]).\n\tsize mismatch for features.19.weight: copying a param with shape torch.Size([177, 212, 3, 3]) from checkpoint, the shape in current model is torch.Size([512, 512, 3, 3]).\n\tsize mismatch for features.19.bias: copying a param with shape torch.Size([177]) from checkpoint, the shape in current model is torch.Size([512]).\n\tsize mismatch for features.21.weight: copying a param with shape torch.Size([183, 177, 3, 3]) from checkpoint, the shape in current model is torch.Size([512, 512, 3, 3]).\n\tsize mismatch for features.21.bias: copying a param with shape torch.Size([183]) from checkpoint, the shape in current model is torch.Size([512]).\n\tsize mismatch for features.24.weight: copying a param with shape torch.Size([150, 183, 3, 3]) from checkpoint, the shape in current model is torch.Size([512, 512, 3, 3]).\n\tsize mismatch for features.24.bias: copying a param with shape torch.Size([150]) from checkpoint, the shape in current model is torch.Size([512]).\n\tsize mismatch for features.26.weight: copying a param with shape torch.Size([155, 150, 3, 3]) from checkpoint, the shape in current model is torch.Size([512, 512, 3, 3]).\n\tsize mismatch for features.26.bias: copying a param with shape torch.Size([155]) from checkpoint, the shape in current model is torch.Size([512]).\n\tsize mismatch for features.28.weight: copying a param with shape torch.Size([109, 155, 3, 3]) from checkpoint, the shape in current model is torch.Size([512, 512, 3, 3]).\n\tsize mismatch for features.28.bias: copying a param with shape torch.Size([109]) from checkpoint, the shape in current model is torch.Size([512]).\n\tsize mismatch for classifier.1.weight: copying a param with shape torch.Size([4096, 5341]) from checkpoint, the shape in current model is torch.Size([4096, 25088])."
     ]
    }
   ],
   "execution_count": 49
  }
 ],
 "metadata": {
  "kernelspec": {
   "display_name": "Python 3",
   "language": "python",
   "name": "python3"
  },
  "language_info": {
   "codemirror_mode": {
    "name": "ipython",
    "version": 2
   },
   "file_extension": ".py",
   "mimetype": "text/x-python",
   "name": "python",
   "nbconvert_exporter": "python",
   "pygments_lexer": "ipython2",
   "version": "2.7.6"
  }
 },
 "nbformat": 4,
 "nbformat_minor": 5
}
